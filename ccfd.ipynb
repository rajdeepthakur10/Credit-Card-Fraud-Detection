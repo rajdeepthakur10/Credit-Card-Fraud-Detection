{
  "cells": [
    {
      "cell_type": "code",
      "execution_count": 1,
      "metadata": {
        "id": "YTGytS12tASU"
      },
      "outputs": [],
      "source": [
        "import pandas as pd\n",
        "from sklearn.preprocessing import StandardScaler, LabelEncoder\n",
        "\n",
        "# Load the datasets\n",
        "preprocessed_fraudTrain = pd.read_csv('preprocessed_fraudTrain.csv')\n",
        "preprocessed_fraudTest = pd.read_csv('preprocessed_fraudTest.csv')\n",
        "\n",
        "# Encode categorical features using Label Encoding or OneHot Encoding\n",
        "label_enc = LabelEncoder()\n",
        "for col in ['merchant', 'category', 'gender', 'city', 'state', 'job']:\n",
        "    preprocessed_fraudTrain[col] = label_enc.fit_transform(preprocessed_fraudTrain[col])\n",
        "    preprocessed_fraudTest[col] = label_enc.transform(preprocessed_fraudTest[col])\n",
        "\n",
        "# Separate features and target\n",
        "X_train = preprocessed_fraudTrain.drop(columns=['is_fraud'])\n",
        "y_train = preprocessed_fraudTrain['is_fraud']\n",
        "X_test = preprocessed_fraudTest.drop(columns=['is_fraud'])\n",
        "y_test = preprocessed_fraudTest['is_fraud']\n",
        "\n",
        "# Scaling the data\n",
        "scaler = StandardScaler()\n",
        "X_train_scaled = scaler.fit_transform(X_train)\n",
        "X_test_scaled = scaler.transform(X_test)"
      ]
    },
    {
      "cell_type": "code",
      "execution_count": 2,
      "metadata": {
        "id": "F7lXGR2DvQWT"
      },
      "outputs": [],
      "source": [
        "from imblearn.over_sampling import SMOTE\n",
        "\n",
        "# Apply SMOTE to balance the training dataset\n",
        "sm = SMOTE(random_state=42)\n",
        "X_train_resampled, y_train_resampled = sm.fit_resample(X_train_scaled, y_train)"
      ]
    },
    {
      "cell_type": "code",
      "execution_count": 3,
      "metadata": {
        "colab": {
          "base_uri": "https://localhost:8080/"
        },
        "id": "iMA80GGrvUZv",
        "outputId": "d078180e-d2a5-476d-ba75-ef74986eaff3"
      },
      "outputs": [
        {
          "name": "stderr",
          "output_type": "stream",
          "text": [
            "/Users/rajthakur/Library/Python/3.9/lib/python/site-packages/urllib3/__init__.py:35: NotOpenSSLWarning: urllib3 v2 only supports OpenSSL 1.1.1+, currently the 'ssl' module is compiled with 'LibreSSL 2.8.3'. See: https://github.com/urllib3/urllib3/issues/3020\n",
            "  warnings.warn(\n"
          ]
        },
        {
          "name": "stdout",
          "output_type": "stream",
          "text": [
            "Epoch 1/50\n"
          ]
        },
        {
          "name": "stderr",
          "output_type": "stream",
          "text": [
            "/Users/rajthakur/Library/Python/3.9/lib/python/site-packages/keras/src/layers/core/dense.py:87: UserWarning: Do not pass an `input_shape`/`input_dim` argument to a layer. When using Sequential models, prefer using an `Input(shape)` object as the first layer in the model instead.\n",
            "  super().__init__(activity_regularizer=activity_regularizer, **kwargs)\n"
          ]
        },
        {
          "name": "stdout",
          "output_type": "stream",
          "text": [
            "\u001b[1m8058/8058\u001b[0m \u001b[32m━━━━━━━━━━━━━━━━━━━━\u001b[0m\u001b[37m\u001b[0m \u001b[1m4s\u001b[0m 476us/step - loss: 0.9492 - val_loss: 1.1334\n",
            "Epoch 2/50\n",
            "\u001b[1m8058/8058\u001b[0m \u001b[32m━━━━━━━━━━━━━━━━━━━━\u001b[0m\u001b[37m\u001b[0m \u001b[1m4s\u001b[0m 470us/step - loss: 0.8204 - val_loss: 1.1309\n",
            "Epoch 3/50\n",
            "\u001b[1m8058/8058\u001b[0m \u001b[32m━━━━━━━━━━━━━━━━━━━━\u001b[0m\u001b[37m\u001b[0m \u001b[1m4s\u001b[0m 463us/step - loss: 0.8165 - val_loss: 1.1296\n",
            "Epoch 4/50\n",
            "\u001b[1m8058/8058\u001b[0m \u001b[32m━━━━━━━━━━━━━━━━━━━━\u001b[0m\u001b[37m\u001b[0m \u001b[1m4s\u001b[0m 468us/step - loss: 0.8156 - val_loss: 1.1290\n",
            "Epoch 5/50\n",
            "\u001b[1m8058/8058\u001b[0m \u001b[32m━━━━━━━━━━━━━━━━━━━━\u001b[0m\u001b[37m\u001b[0m \u001b[1m4s\u001b[0m 465us/step - loss: 0.8140 - val_loss: 1.1170\n",
            "Epoch 6/50\n",
            "\u001b[1m8058/8058\u001b[0m \u001b[32m━━━━━━━━━━━━━━━━━━━━\u001b[0m\u001b[37m\u001b[0m \u001b[1m4s\u001b[0m 464us/step - loss: 0.8113 - val_loss: 1.1169\n",
            "Epoch 7/50\n",
            "\u001b[1m8058/8058\u001b[0m \u001b[32m━━━━━━━━━━━━━━━━━━━━\u001b[0m\u001b[37m\u001b[0m \u001b[1m4s\u001b[0m 468us/step - loss: 0.8096 - val_loss: 1.1163\n",
            "Epoch 8/50\n",
            "\u001b[1m8058/8058\u001b[0m \u001b[32m━━━━━━━━━━━━━━━━━━━━\u001b[0m\u001b[37m\u001b[0m \u001b[1m4s\u001b[0m 463us/step - loss: 0.8072 - val_loss: 1.1164\n",
            "Epoch 9/50\n",
            "\u001b[1m8058/8058\u001b[0m \u001b[32m━━━━━━━━━━━━━━━━━━━━\u001b[0m\u001b[37m\u001b[0m \u001b[1m4s\u001b[0m 472us/step - loss: 0.8077 - val_loss: 1.1162\n",
            "Epoch 10/50\n",
            "\u001b[1m8058/8058\u001b[0m \u001b[32m━━━━━━━━━━━━━━━━━━━━\u001b[0m\u001b[37m\u001b[0m \u001b[1m4s\u001b[0m 463us/step - loss: 0.8125 - val_loss: 1.1158\n",
            "Epoch 11/50\n",
            "\u001b[1m8058/8058\u001b[0m \u001b[32m━━━━━━━━━━━━━━━━━━━━\u001b[0m\u001b[37m\u001b[0m \u001b[1m4s\u001b[0m 469us/step - loss: 0.8117 - val_loss: 1.1156\n",
            "Epoch 12/50\n",
            "\u001b[1m8058/8058\u001b[0m \u001b[32m━━━━━━━━━━━━━━━━━━━━\u001b[0m\u001b[37m\u001b[0m \u001b[1m4s\u001b[0m 462us/step - loss: 0.8103 - val_loss: 1.1157\n",
            "Epoch 13/50\n",
            "\u001b[1m8058/8058\u001b[0m \u001b[32m━━━━━━━━━━━━━━━━━━━━\u001b[0m\u001b[37m\u001b[0m \u001b[1m4s\u001b[0m 468us/step - loss: 0.8109 - val_loss: 1.1156\n",
            "Epoch 14/50\n",
            "\u001b[1m8058/8058\u001b[0m \u001b[32m━━━━━━━━━━━━━━━━━━━━\u001b[0m\u001b[37m\u001b[0m \u001b[1m4s\u001b[0m 463us/step - loss: 0.8099 - val_loss: 1.1156\n",
            "Epoch 15/50\n",
            "\u001b[1m8058/8058\u001b[0m \u001b[32m━━━━━━━━━━━━━━━━━━━━\u001b[0m\u001b[37m\u001b[0m \u001b[1m4s\u001b[0m 468us/step - loss: 0.8078 - val_loss: 1.1154\n",
            "Epoch 16/50\n",
            "\u001b[1m8058/8058\u001b[0m \u001b[32m━━━━━━━━━━━━━━━━━━━━\u001b[0m\u001b[37m\u001b[0m \u001b[1m4s\u001b[0m 471us/step - loss: 0.8089 - val_loss: 1.1152\n",
            "Epoch 17/50\n",
            "\u001b[1m8058/8058\u001b[0m \u001b[32m━━━━━━━━━━━━━━━━━━━━\u001b[0m\u001b[37m\u001b[0m \u001b[1m4s\u001b[0m 464us/step - loss: 0.8080 - val_loss: 1.1153\n",
            "Epoch 18/50\n",
            "\u001b[1m8058/8058\u001b[0m \u001b[32m━━━━━━━━━━━━━━━━━━━━\u001b[0m\u001b[37m\u001b[0m \u001b[1m4s\u001b[0m 467us/step - loss: 0.8072 - val_loss: 1.1153\n",
            "Epoch 19/50\n",
            "\u001b[1m8058/8058\u001b[0m \u001b[32m━━━━━━━━━━━━━━━━━━━━\u001b[0m\u001b[37m\u001b[0m \u001b[1m4s\u001b[0m 467us/step - loss: 0.8057 - val_loss: 1.1152\n",
            "Epoch 20/50\n",
            "\u001b[1m8058/8058\u001b[0m \u001b[32m━━━━━━━━━━━━━━━━━━━━\u001b[0m\u001b[37m\u001b[0m \u001b[1m4s\u001b[0m 465us/step - loss: 0.8109 - val_loss: 1.1151\n",
            "Epoch 21/50\n",
            "\u001b[1m8058/8058\u001b[0m \u001b[32m━━━━━━━━━━━━━━━━━━━━\u001b[0m\u001b[37m\u001b[0m \u001b[1m4s\u001b[0m 467us/step - loss: 0.8090 - val_loss: 1.1152\n",
            "Epoch 22/50\n",
            "\u001b[1m8058/8058\u001b[0m \u001b[32m━━━━━━━━━━━━━━━━━━━━\u001b[0m\u001b[37m\u001b[0m \u001b[1m4s\u001b[0m 467us/step - loss: 0.8101 - val_loss: 1.1151\n",
            "Epoch 23/50\n",
            "\u001b[1m8058/8058\u001b[0m \u001b[32m━━━━━━━━━━━━━━━━━━━━\u001b[0m\u001b[37m\u001b[0m \u001b[1m4s\u001b[0m 467us/step - loss: 0.8113 - val_loss: 1.1157\n",
            "Epoch 24/50\n",
            "\u001b[1m8058/8058\u001b[0m \u001b[32m━━━━━━━━━━━━━━━━━━━━\u001b[0m\u001b[37m\u001b[0m \u001b[1m4s\u001b[0m 467us/step - loss: 0.8090 - val_loss: 1.1151\n",
            "Epoch 25/50\n",
            "\u001b[1m8058/8058\u001b[0m \u001b[32m━━━━━━━━━━━━━━━━━━━━\u001b[0m\u001b[37m\u001b[0m \u001b[1m4s\u001b[0m 464us/step - loss: 0.8129 - val_loss: 1.1155\n",
            "Epoch 26/50\n",
            "\u001b[1m8058/8058\u001b[0m \u001b[32m━━━━━━━━━━━━━━━━━━━━\u001b[0m\u001b[37m\u001b[0m \u001b[1m4s\u001b[0m 473us/step - loss: 0.8077 - val_loss: 1.1153\n",
            "Epoch 27/50\n",
            "\u001b[1m8058/8058\u001b[0m \u001b[32m━━━━━━━━━━━━━━━━━━━━\u001b[0m\u001b[37m\u001b[0m \u001b[1m4s\u001b[0m 487us/step - loss: 0.8095 - val_loss: 1.1151\n",
            "Epoch 28/50\n",
            "\u001b[1m8058/8058\u001b[0m \u001b[32m━━━━━━━━━━━━━━━━━━━━\u001b[0m\u001b[37m\u001b[0m \u001b[1m4s\u001b[0m 469us/step - loss: 0.8105 - val_loss: 1.1153\n",
            "Epoch 29/50\n",
            "\u001b[1m8058/8058\u001b[0m \u001b[32m━━━━━━━━━━━━━━━━━━━━\u001b[0m\u001b[37m\u001b[0m \u001b[1m4s\u001b[0m 486us/step - loss: 0.8088 - val_loss: 1.1152\n",
            "Epoch 30/50\n",
            "\u001b[1m8058/8058\u001b[0m \u001b[32m━━━━━━━━━━━━━━━━━━━━\u001b[0m\u001b[37m\u001b[0m \u001b[1m4s\u001b[0m 468us/step - loss: 0.8072 - val_loss: 1.1152\n",
            "Epoch 31/50\n",
            "\u001b[1m8058/8058\u001b[0m \u001b[32m━━━━━━━━━━━━━━━━━━━━\u001b[0m\u001b[37m\u001b[0m \u001b[1m4s\u001b[0m 480us/step - loss: 0.8115 - val_loss: 1.1151\n",
            "Epoch 32/50\n",
            "\u001b[1m8058/8058\u001b[0m \u001b[32m━━━━━━━━━━━━━━━━━━━━\u001b[0m\u001b[37m\u001b[0m \u001b[1m4s\u001b[0m 489us/step - loss: 0.8077 - val_loss: 1.1152\n",
            "Epoch 33/50\n",
            "\u001b[1m8058/8058\u001b[0m \u001b[32m━━━━━━━━━━━━━━━━━━━━\u001b[0m\u001b[37m\u001b[0m \u001b[1m4s\u001b[0m 474us/step - loss: 0.8081 - val_loss: 1.1161\n",
            "Epoch 34/50\n",
            "\u001b[1m8058/8058\u001b[0m \u001b[32m━━━━━━━━━━━━━━━━━━━━\u001b[0m\u001b[37m\u001b[0m \u001b[1m4s\u001b[0m 485us/step - loss: 0.8099 - val_loss: 1.1151\n",
            "Epoch 35/50\n",
            "\u001b[1m8058/8058\u001b[0m \u001b[32m━━━━━━━━━━━━━━━━━━━━\u001b[0m\u001b[37m\u001b[0m \u001b[1m4s\u001b[0m 472us/step - loss: 0.8092 - val_loss: 1.1150\n",
            "Epoch 36/50\n",
            "\u001b[1m8058/8058\u001b[0m \u001b[32m━━━━━━━━━━━━━━━━━━━━\u001b[0m\u001b[37m\u001b[0m \u001b[1m4s\u001b[0m 461us/step - loss: 0.8088 - val_loss: 1.1153\n",
            "Epoch 37/50\n",
            "\u001b[1m8058/8058\u001b[0m \u001b[32m━━━━━━━━━━━━━━━━━━━━\u001b[0m\u001b[37m\u001b[0m \u001b[1m4s\u001b[0m 453us/step - loss: 0.8106 - val_loss: 1.1152\n",
            "Epoch 38/50\n",
            "\u001b[1m8058/8058\u001b[0m \u001b[32m━━━━━━━━━━━━━━━━━━━━\u001b[0m\u001b[37m\u001b[0m \u001b[1m4s\u001b[0m 458us/step - loss: 0.8101 - val_loss: 1.1153\n",
            "Epoch 39/50\n",
            "\u001b[1m8058/8058\u001b[0m \u001b[32m━━━━━━━━━━━━━━━━━━━━\u001b[0m\u001b[37m\u001b[0m \u001b[1m4s\u001b[0m 456us/step - loss: 0.8086 - val_loss: 1.1147\n",
            "Epoch 40/50\n",
            "\u001b[1m8058/8058\u001b[0m \u001b[32m━━━━━━━━━━━━━━━━━━━━\u001b[0m\u001b[37m\u001b[0m \u001b[1m4s\u001b[0m 455us/step - loss: 0.8092 - val_loss: 1.1147\n",
            "Epoch 41/50\n",
            "\u001b[1m8058/8058\u001b[0m \u001b[32m━━━━━━━━━━━━━━━━━━━━\u001b[0m\u001b[37m\u001b[0m \u001b[1m4s\u001b[0m 460us/step - loss: 0.8093 - val_loss: 1.1148\n",
            "Epoch 42/50\n",
            "\u001b[1m8058/8058\u001b[0m \u001b[32m━━━━━━━━━━━━━━━━━━━━\u001b[0m\u001b[37m\u001b[0m \u001b[1m4s\u001b[0m 454us/step - loss: 0.8143 - val_loss: 1.1147\n",
            "Epoch 43/50\n",
            "\u001b[1m8058/8058\u001b[0m \u001b[32m━━━━━━━━━━━━━━━━━━━━\u001b[0m\u001b[37m\u001b[0m \u001b[1m4s\u001b[0m 455us/step - loss: 0.8097 - val_loss: 1.1148\n",
            "Epoch 44/50\n",
            "\u001b[1m8058/8058\u001b[0m \u001b[32m━━━━━━━━━━━━━━━━━━━━\u001b[0m\u001b[37m\u001b[0m \u001b[1m4s\u001b[0m 453us/step - loss: 0.8105 - val_loss: 1.1149\n",
            "Epoch 45/50\n",
            "\u001b[1m8058/8058\u001b[0m \u001b[32m━━━━━━━━━━━━━━━━━━━━\u001b[0m\u001b[37m\u001b[0m \u001b[1m4s\u001b[0m 458us/step - loss: 0.8101 - val_loss: 1.1152\n",
            "Epoch 46/50\n",
            "\u001b[1m8058/8058\u001b[0m \u001b[32m━━━━━━━━━━━━━━━━━━━━\u001b[0m\u001b[37m\u001b[0m \u001b[1m4s\u001b[0m 457us/step - loss: 0.8066 - val_loss: 1.1149\n",
            "Epoch 47/50\n",
            "\u001b[1m8058/8058\u001b[0m \u001b[32m━━━━━━━━━━━━━━━━━━━━\u001b[0m\u001b[37m\u001b[0m \u001b[1m4s\u001b[0m 460us/step - loss: 0.8070 - val_loss: 1.1150\n",
            "Epoch 48/50\n",
            "\u001b[1m8058/8058\u001b[0m \u001b[32m━━━━━━━━━━━━━━━━━━━━\u001b[0m\u001b[37m\u001b[0m \u001b[1m4s\u001b[0m 468us/step - loss: 0.8066 - val_loss: 1.1152\n",
            "Epoch 49/50\n",
            "\u001b[1m8058/8058\u001b[0m \u001b[32m━━━━━━━━━━━━━━━━━━━━\u001b[0m\u001b[37m\u001b[0m \u001b[1m4s\u001b[0m 455us/step - loss: 0.8091 - val_loss: 1.1154\n",
            "Epoch 50/50\n",
            "\u001b[1m8058/8058\u001b[0m \u001b[32m━━━━━━━━━━━━━━━━━━━━\u001b[0m\u001b[37m\u001b[0m \u001b[1m4s\u001b[0m 458us/step - loss: 0.8077 - val_loss: 1.1169\n"
          ]
        },
        {
          "data": {
            "text/plain": [
              "<keras.src.callbacks.history.History at 0x36f2c8b80>"
            ]
          },
          "execution_count": 3,
          "metadata": {},
          "output_type": "execute_result"
        }
      ],
      "source": [
        "from tensorflow.keras.models import Sequential\n",
        "from tensorflow.keras.layers import Dense\n",
        "\n",
        "# Build the autoencoder\n",
        "autoencoder = Sequential([\n",
        "    Dense(32, activation='relu', input_shape=(X_train_resampled.shape[1],)),\n",
        "    Dense(16, activation='relu'),\n",
        "    Dense(8, activation='relu'),  # Bottleneck layer\n",
        "    Dense(16, activation='relu'),\n",
        "    Dense(32, activation='relu'),\n",
        "    Dense(X_train_resampled.shape[1], activation='sigmoid')\n",
        "])\n",
        "\n",
        "# Compile and train the autoencoder\n",
        "autoencoder.compile(optimizer='adam', loss='mse')\n",
        "autoencoder.fit(X_train_resampled, X_train_resampled, epochs=50, batch_size=256, validation_split=0.2)\n"
      ]
    },
    {
      "cell_type": "code",
      "execution_count": 4,
      "metadata": {
        "id": "RCt_GMdKvdGl"
      },
      "outputs": [
        {
          "ename": "NameError",
          "evalue": "name 'Dropout' is not defined",
          "output_type": "error",
          "traceback": [
            "\u001b[0;31m---------------------------------------------------------------------------\u001b[0m",
            "\u001b[0;31mNameError\u001b[0m                                 Traceback (most recent call last)",
            "Cell \u001b[0;32mIn[4], line 3\u001b[0m\n\u001b[1;32m      1\u001b[0m autoencoder \u001b[38;5;241m=\u001b[39m Sequential()\n\u001b[1;32m      2\u001b[0m autoencoder\u001b[38;5;241m.\u001b[39madd(Dense(\u001b[38;5;241m64\u001b[39m, activation\u001b[38;5;241m=\u001b[39m\u001b[38;5;124m'\u001b[39m\u001b[38;5;124mrelu\u001b[39m\u001b[38;5;124m'\u001b[39m, input_shape\u001b[38;5;241m=\u001b[39m(X_train_resampled\u001b[38;5;241m.\u001b[39mshape[\u001b[38;5;241m1\u001b[39m],)))\n\u001b[0;32m----> 3\u001b[0m autoencoder\u001b[38;5;241m.\u001b[39madd(\u001b[43mDropout\u001b[49m(\u001b[38;5;241m0.2\u001b[39m))  \u001b[38;5;66;03m# Add dropout for regularization\u001b[39;00m\n\u001b[1;32m      4\u001b[0m autoencoder\u001b[38;5;241m.\u001b[39madd(Dense(\u001b[38;5;241m32\u001b[39m, activation\u001b[38;5;241m=\u001b[39m\u001b[38;5;124m'\u001b[39m\u001b[38;5;124mrelu\u001b[39m\u001b[38;5;124m'\u001b[39m))\n\u001b[1;32m      5\u001b[0m autoencoder\u001b[38;5;241m.\u001b[39madd(Dropout(\u001b[38;5;241m0.2\u001b[39m))\n",
            "\u001b[0;31mNameError\u001b[0m: name 'Dropout' is not defined"
          ]
        }
      ],
      "source": [
        "autoencoder = Sequential()\n",
        "autoencoder.add(Dense(64, activation='relu', input_shape=(X_train_resampled.shape[1],)))\n",
        "autoencoder.add(Dropout(0.2))  # Add dropout for regularization\n",
        "autoencoder.add(Dense(32, activation='relu'))\n",
        "autoencoder.add(Dropout(0.2))\n",
        "autoencoder.add(Dense(16, activation='relu'))\n",
        "autoencoder.add(Dense(32, activation='relu'))\n",
        "autoencoder.add(Dense(64, activation='relu'))\n",
        "autoencoder.add(Dense(X_train_resampled.shape[1], activation='sigmoid'))\n",
        "\n",
        "autoencoder.compile(optimizer='adam', loss='mean_squared_error')\n"
      ]
    },
    {
      "cell_type": "code",
      "execution_count": 5,
      "metadata": {
        "colab": {
          "base_uri": "https://localhost:8080/"
        },
        "id": "5Ig78PGvvmRq",
        "outputId": "cfcb5d80-491c-4182-d032-c81332b442d4"
      },
      "outputs": [
        {
          "name": "stdout",
          "output_type": "stream",
          "text": [
            "\u001b[1m80574/80574\u001b[0m \u001b[32m━━━━━━━━━━━━━━━━━━━━\u001b[0m\u001b[37m\u001b[0m \u001b[1m18s\u001b[0m 217us/step\n",
            "\u001b[1m17367/17367\u001b[0m \u001b[32m━━━━━━━━━━━━━━━━━━━━\u001b[0m\u001b[37m\u001b[0m \u001b[1m4s\u001b[0m 221us/step\n",
            "Epoch 1/10\n",
            "\u001b[1m10072/10072\u001b[0m \u001b[32m━━━━━━━━━━━━━━━━━━━━\u001b[0m\u001b[37m\u001b[0m \u001b[1m4s\u001b[0m 392us/step - accuracy: 0.8697 - loss: 0.3042 - val_accuracy: 0.9147 - val_loss: 0.2133\n",
            "Epoch 2/10\n",
            "\u001b[1m10072/10072\u001b[0m \u001b[32m━━━━━━━━━━━━━━━━━━━━\u001b[0m\u001b[37m\u001b[0m \u001b[1m4s\u001b[0m 367us/step - accuracy: 0.9077 - loss: 0.2207 - val_accuracy: 0.8912 - val_loss: 0.2585\n",
            "Epoch 3/10\n",
            "\u001b[1m10072/10072\u001b[0m \u001b[32m━━━━━━━━━━━━━━━━━━━━\u001b[0m\u001b[37m\u001b[0m \u001b[1m4s\u001b[0m 384us/step - accuracy: 0.9142 - loss: 0.2060 - val_accuracy: 0.8904 - val_loss: 0.2577\n",
            "Epoch 4/10\n",
            "\u001b[1m10072/10072\u001b[0m \u001b[32m━━━━━━━━━━━━━━━━━━━━\u001b[0m\u001b[37m\u001b[0m \u001b[1m4s\u001b[0m 381us/step - accuracy: 0.9183 - loss: 0.1978 - val_accuracy: 0.9218 - val_loss: 0.1920\n",
            "Epoch 5/10\n",
            "\u001b[1m10072/10072\u001b[0m \u001b[32m━━━━━━━━━━━━━━━━━━━━\u001b[0m\u001b[37m\u001b[0m \u001b[1m4s\u001b[0m 387us/step - accuracy: 0.9195 - loss: 0.1949 - val_accuracy: 0.9066 - val_loss: 0.2215\n",
            "Epoch 6/10\n",
            "\u001b[1m10072/10072\u001b[0m \u001b[32m━━━━━━━━━━━━━━━━━━━━\u001b[0m\u001b[37m\u001b[0m \u001b[1m4s\u001b[0m 379us/step - accuracy: 0.9209 - loss: 0.1919 - val_accuracy: 0.9081 - val_loss: 0.2188\n",
            "Epoch 7/10\n",
            "\u001b[1m10072/10072\u001b[0m \u001b[32m━━━━━━━━━━━━━━━━━━━━\u001b[0m\u001b[37m\u001b[0m \u001b[1m4s\u001b[0m 368us/step - accuracy: 0.9215 - loss: 0.1906 - val_accuracy: 0.9363 - val_loss: 0.1568\n",
            "Epoch 8/10\n",
            "\u001b[1m10072/10072\u001b[0m \u001b[32m━━━━━━━━━━━━━━━━━━━━\u001b[0m\u001b[37m\u001b[0m \u001b[1m4s\u001b[0m 370us/step - accuracy: 0.9222 - loss: 0.1889 - val_accuracy: 0.9455 - val_loss: 0.1395\n",
            "Epoch 9/10\n",
            "\u001b[1m10072/10072\u001b[0m \u001b[32m━━━━━━━━━━━━━━━━━━━━\u001b[0m\u001b[37m\u001b[0m \u001b[1m4s\u001b[0m 371us/step - accuracy: 0.9232 - loss: 0.1877 - val_accuracy: 0.9261 - val_loss: 0.1801\n",
            "Epoch 10/10\n",
            "\u001b[1m10072/10072\u001b[0m \u001b[32m━━━━━━━━━━━━━━━━━━━━\u001b[0m\u001b[37m\u001b[0m \u001b[1m4s\u001b[0m 384us/step - accuracy: 0.9240 - loss: 0.1855 - val_accuracy: 0.9152 - val_loss: 0.2064\n"
          ]
        },
        {
          "data": {
            "text/plain": [
              "<keras.src.callbacks.history.History at 0x357f6f940>"
            ]
          },
          "execution_count": 5,
          "metadata": {},
          "output_type": "execute_result"
        }
      ],
      "source": [
        "# Extract compressed (bottleneck) features from the autoencoder\n",
        "encoder = Sequential(autoencoder.layers[:3])  # Use the first 3 layers (encoder)\n",
        "X_train_encoded = encoder.predict(X_train_resampled)\n",
        "X_test_encoded = encoder.predict(X_test_scaled)\n",
        "\n",
        "# Build the ANN classifier\n",
        "classifier = Sequential([\n",
        "    Dense(16, activation='relu', input_shape=(X_train_encoded.shape[1],)),\n",
        "    Dense(8, activation='relu'),\n",
        "    Dense(1, activation='sigmoid')\n",
        "])\n",
        "\n",
        "# Compile and train the ANN\n",
        "classifier.compile(optimizer='adam', loss='binary_crossentropy', metrics=['accuracy'])\n",
        "classifier.fit(X_train_encoded, y_train_resampled, epochs=10, batch_size=256, validation_data=(X_test_encoded, y_test))"
      ]
    },
    {
      "cell_type": "code",
      "execution_count": 6,
      "metadata": {
        "colab": {
          "base_uri": "https://localhost:8080/"
        },
        "id": "SqGiIsE-vpa8",
        "outputId": "c73a4a75-8351-4c3e-b055-2830f3e318a6"
      },
      "outputs": [
        {
          "name": "stdout",
          "output_type": "stream",
          "text": [
            "\u001b[1m17367/17367\u001b[0m \u001b[32m━━━━━━━━━━━━━━━━━━━━\u001b[0m\u001b[37m\u001b[0m \u001b[1m4s\u001b[0m 223us/step - accuracy: 0.9250 - loss: 0.1864\n",
            "Test Accuracy: 0.9152\n"
          ]
        }
      ],
      "source": [
        "# Evaluate the model\n",
        "loss, accuracy = classifier.evaluate(X_test_encoded, y_test)\n",
        "print(f\"Test Accuracy: {accuracy:.4f}\")\n"
      ]
    },
    {
      "cell_type": "code",
      "execution_count": 7,
      "metadata": {
        "colab": {
          "base_uri": "https://localhost:8080/",
          "height": 489
        },
        "id": "HIDkxNmYvrx7",
        "outputId": "a8c1e078-bb0d-462e-9986-36a7ea6489d9"
      },
      "outputs": [
        {
          "name": "stdout",
          "output_type": "stream",
          "text": [
            "\u001b[1m17367/17367\u001b[0m \u001b[32m━━━━━━━━━━━━━━━━━━━━\u001b[0m\u001b[37m\u001b[0m \u001b[1m4s\u001b[0m 231us/step\n"
          ]
        },
        {
          "data": {
            "image/png": "[encoded data removed]",
            "text/plain": [
              "<Figure size 640x480 with 2 Axes>"
            ]
          },
          "metadata": {},
          "output_type": "display_data"
        }
      ],
      "source": [
        "from sklearn.metrics import confusion_matrix, ConfusionMatrixDisplay\n",
        "import matplotlib.pyplot as plt\n",
        "\n",
        "# Make predictions on the test set\n",
        "y_pred = classifier.predict(X_test_encoded)\n",
        "y_pred = (y_pred > 0.5).astype(int)  # Convert probabilities to binary predictions (0 or 1)\n",
        "\n",
        "# Compute the confusion matrix\n",
        "cm = confusion_matrix(y_test, y_pred)\n",
        "\n",
        "# Plot the confusion matrix\n",
        "disp = ConfusionMatrixDisplay(confusion_matrix=cm, display_labels=['Non-Fraud', 'Fraud'])\n",
        "disp.plot(cmap=plt.cm.Blues)\n",
        "plt.title('Confusion Matrix')\n",
        "plt.show()"
      ]
    },
    {
      "cell_type": "code",
      "execution_count": 8,
      "metadata": {
        "colab": {
          "base_uri": "https://localhost:8080/"
        },
        "id": "qEjWgY1hvwMv",
        "outputId": "98a251a1-bb86-440a-ae17-13c2c3043214"
      },
      "outputs": [
        {
          "name": "stdout",
          "output_type": "stream",
          "text": [
            "\u001b[1m17367/17367\u001b[0m \u001b[32m━━━━━━━━━━━━━━━━━━━━\u001b[0m\u001b[37m\u001b[0m \u001b[1m4s\u001b[0m 236us/step\n",
            "              precision    recall  f1-score   support\n",
            "\n",
            "   Non-Fraud       1.00      0.92      0.96    553574\n",
            "       Fraud       0.04      0.80      0.07      2145\n",
            "\n",
            "    accuracy                           0.92    555719\n",
            "   macro avg       0.52      0.86      0.51    555719\n",
            "weighted avg       1.00      0.92      0.95    555719\n",
            "\n"
          ]
        }
      ],
      "source": [
        "from sklearn.metrics import classification_report\n",
        "\n",
        "# Make predictions on the test set\n",
        "y_pred = classifier.predict(X_test_encoded)\n",
        "y_pred = (y_pred > 0.5).astype(int)  # Convert probabilities to binary predictions (0 or 1)\n",
        "\n",
        "# Generate the classification report\n",
        "report = classification_report(y_test, y_pred, target_names=['Non-Fraud', 'Fraud'])\n",
        "\n",
        "# Print the report\n",
        "print(report)\n"
      ]
    }
  ],
  "metadata": {
    "colab": {
      "provenance": []
    },
    "kernelspec": {
      "display_name": "Python 3",
      "name": "python3"
    },
    "language_info": {
      "codemirror_mode": {
        "name": "ipython",
        "version": 3
      },
      "file_extension": ".py",
      "mimetype": "text/x-python",
      "name": "python",
      "nbconvert_exporter": "python",
      "pygments_lexer": "ipython3",
      "version": "3.9.6"
    }
  },
  "nbformat": 4,
  "nbformat_minor": 0
}
